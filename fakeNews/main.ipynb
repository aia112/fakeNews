{
 "cells": [
  {
   "cell_type": "code",
   "execution_count": 1,
   "metadata": {},
   "outputs": [],
   "source": [
    "import pickle\n",
    "from dataClean import clean\n",
    "from nltk import word_tokenize\n",
    "import numpy as np\n",
    "from newspaper import Article"
   ]
  },
  {
   "cell_type": "code",
   "execution_count": 2,
   "metadata": {},
   "outputs": [
    {
     "name": "stderr",
     "output_type": "stream",
     "text": [
      "C:\\Users\\ansar\\Anaconda3\\lib\\site-packages\\sklearn\\base.py:251: UserWarning: Trying to unpickle estimator MultinomialNB from version 0.22.1 when using version 0.20.1. This might lead to breaking code or invalid results. Use at your own risk.\n",
      "  UserWarning)\n",
      "C:\\Users\\ansar\\Anaconda3\\lib\\site-packages\\sklearn\\base.py:251: UserWarning: Trying to unpickle estimator TfidfTransformer from version 0.22.1 when using version 0.20.1. This might lead to breaking code or invalid results. Use at your own risk.\n",
      "  UserWarning)\n",
      "C:\\Users\\ansar\\Anaconda3\\lib\\site-packages\\sklearn\\base.py:251: UserWarning: Trying to unpickle estimator TfidfVectorizer from version 0.22.1 when using version 0.20.1. This might lead to breaking code or invalid results. Use at your own risk.\n",
      "  UserWarning)\n"
     ]
    }
   ],
   "source": [
    "### LOAD THE MODEL ###\n",
    "with open(\"pickles/model\", \"rb\") as pick:\n",
    "    model = pickle.load(pick)\n",
    "#### LOAD VECTORS #####\n",
    "with open(\"pickles/titleVector\", 'rb') as pick:\n",
    "    titleVector = pickle.load(pick)\n",
    "with open(\"pickles/textVector\", 'rb') as pick:\n",
    "    textVector = pickle.load(pick)"
   ]
  },
  {
   "cell_type": "code",
   "execution_count": 76,
   "metadata": {},
   "outputs": [],
   "source": [
    "#### HERE WRITE NEWSPAPER CODE FOR TAKING URL AS INPUT\n",
    "#### FETCH article AND title \n",
    "url=\"\" ## Enter url here\n",
    "obj=Article(url) ##Creating object of class Article\n",
    "obj.download()\n",
    "obj.parse()\n",
    "article = obj.text\n",
    "title = obj.title"
   ]
  },
  {
   "cell_type": "code",
   "execution_count": 77,
   "metadata": {},
   "outputs": [],
   "source": [
    "def l2s(X):\n",
    "    return \" \".join(X)"
   ]
  },
  {
   "cell_type": "code",
   "execution_count": 78,
   "metadata": {},
   "outputs": [],
   "source": [
    "article = l2s(clean(article, True))\n",
    "title = l2s(clean(title, True))"
   ]
  },
  {
   "cell_type": "code",
   "execution_count": 79,
   "metadata": {},
   "outputs": [],
   "source": [
    "def vectorize(title, text):\n",
    "    titleArray = titleVector.transform([title]).toarray()\n",
    "    textArray = textVector.transform([text]).toarray()\n",
    "    vector = np.concatenate((titleArray, textArray), axis=1)\n",
    "    return vector"
   ]
  },
  {
   "cell_type": "code",
   "execution_count": 80,
   "metadata": {},
   "outputs": [],
   "source": [
    "vector = vectorize(title, article)"
   ]
  },
  {
   "cell_type": "code",
   "execution_count": 81,
   "metadata": {},
   "outputs": [
    {
     "name": "stdout",
     "output_type": "stream",
     "text": [
      "Probablity of False:  0.8635994999067107\n",
      "probability of True: 0.13640050009329277\n",
      "News is henceforth,  False\n"
     ]
    }
   ],
   "source": [
    "prob = model.predict_proba(vector)\n",
    "result = model.predict(vector)\n",
    "print(\"Probablity of False: \", prob[0][0])\n",
    "print(\"probability of True:\", prob[0][1])\n",
    "print(\"News is henceforth, \", result[0])"
   ]
  },
  {
   "cell_type": "markdown",
   "metadata": {},
   "source": []
  },
  {
   "cell_type": "code",
   "execution_count": null,
   "metadata": {},
   "outputs": [],
   "source": []
  }
 ],
 "metadata": {
  "kernelspec": {
   "display_name": "Python 3",
   "language": "python",
   "name": "python3"
  },
  "language_info": {
   "codemirror_mode": {
    "name": "ipython",
    "version": 3
   },
   "file_extension": ".py",
   "mimetype": "text/x-python",
   "name": "python",
   "nbconvert_exporter": "python",
   "pygments_lexer": "ipython3",
   "version": "3.7.1"
  }
 },
 "nbformat": 4,
 "nbformat_minor": 4
}
