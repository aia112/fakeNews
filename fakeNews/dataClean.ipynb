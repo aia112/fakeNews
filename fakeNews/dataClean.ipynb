{
 "cells": [
  {
   "cell_type": "code",
   "execution_count": null,
   "metadata": {},
   "outputs": [],
   "source": [
    "########### Write all data cleaning/pre-processing functions in this Module only #################\n",
    "########### Remember to use str.lower() before using any of the functions ########################\n",
    "########### Use Comments and Proper Identifier Names #################"
   ]
  },
  {
   "cell_type": "code",
   "execution_count": 4,
   "metadata": {},
   "outputs": [],
   "source": [
    "import re\n",
    "import nltk\n",
    "from nltk.corpus import stopwords\n",
    "from nltk.tokenize import word_tokenize\n",
    "from nltk.tokenize import sent_tokenize"
   ]
  },
  {
   "cell_type": "code",
   "execution_count": 5,
   "metadata": {},
   "outputs": [],
   "source": [
    "\n",
    "def remove_punctuations(token):\n",
    "    token = re.sub(r'[^\\w\\s]|[_]', '', token)\n",
    "    return token"
   ]
  },
  {
   "cell_type": "code",
   "execution_count": 6,
   "metadata": {},
   "outputs": [],
   "source": [
    "def remove_digits(token, space = True):\n",
    "    token = re.sub(r'\\d', ' ', token)\n",
    "    if space:\n",
    "        token = remove_spaces(token)\n",
    "    return token"
   ]
  },
  {
   "cell_type": "code",
   "execution_count": 7,
   "metadata": {},
   "outputs": [],
   "source": [
    "####### Removes More Multiple(More than 1 consecutive) spaces ##########\n",
    "def remove_spaces(token):\n",
    "    token = re.sub(r'[\\s]+', ' ', token)\n",
    "    return token"
   ]
  },
  {
   "cell_type": "code",
   "execution_count": 10,
   "metadata": {},
   "outputs": [],
   "source": [
    "####### Only Works for single word tokens and not sentences #########\n",
    "def remove_stopwords(token, stopWordList = stopwords.words('english'), noPunctuations = True):\n",
    "    if noPunctuations:\n",
    "        for i in range(len(stopWordList)):\n",
    "                stopWordList[i] = remove_punctuations(stopWordList[i])\n",
    "    if type(token) is list:\n",
    "        words = list()\n",
    "        for i in token:\n",
    "            if i not in stopWordList:\n",
    "                words.append(i)\n",
    "        return words\n",
    "    elif token not in stopWordList:\n",
    "        return token\n"
   ]
  },
  {
   "cell_type": "code",
   "execution_count": 1,
   "metadata": {},
   "outputs": [],
   "source": [
    "####### Use this to remove None objects from List after removing stopwords ####### \n",
    "def remove_None(LIST):\n",
    "    return list(filter(None, LIST))"
   ]
  },
  {
   "cell_type": "code",
   "execution_count": 12,
   "metadata": {},
   "outputs": [],
   "source": [
    "def stem(tokens, porter= False, lancaster= False, snowball= False):\n",
    "    stemmed_tokens = []\n",
    "    if porter:\n",
    "        for i in tokens:\n",
    "            stemmed_tokens.append(PorterStemmer().stem(i))\n",
    "    elif lancaster:\n",
    "        for i in tokens:\n",
    "            stemmed_tokens.append(LancasterStemmer().stem(i))\n",
    "    elif snowball:\n",
    "        for i in tokens:\n",
    "            stemmed_tokens.append(SnowballStemmer('english').stem(i))\n",
    "    return stemmed_tokens\n",
    "\n"
   ]
  },
  {
   "cell_type": "code",
   "execution_count": 7,
   "metadata": {},
   "outputs": [],
   "source": [
    "test = \"'Its a lore-m ips_sum 2 test data zeus ./ with punctuation? t856\"\n"
   ]
  },
  {
   "cell_type": "code",
   "execution_count": 8,
   "metadata": {},
   "outputs": [
    {
     "data": {
      "text/plain": [
       "['Its',\n",
       " 'a',\n",
       " 'lorem',\n",
       " 'ipssum',\n",
       " '2',\n",
       " 'test',\n",
       " 'data',\n",
       " 'zeus',\n",
       " 'with',\n",
       " 'punctuation',\n",
       " 't856']"
      ]
     },
     "execution_count": 8,
     "metadata": {},
     "output_type": "execute_result"
    }
   ],
   "source": [
    "nltk.word_tokenize(remove_punctuations(test))"
   ]
  },
  {
   "cell_type": "code",
   "execution_count": 11,
   "metadata": {
    "scrolled": true
   },
   "outputs": [
    {
     "data": {
      "text/plain": [
       "['abc', 'gaurav']"
      ]
     },
     "execution_count": 11,
     "metadata": {},
     "output_type": "execute_result"
    }
   ],
   "source": [
    "text = \"He is a  ABC gaurav\"\n",
    "remove_stopwords(nltk.word_tokenize(text.lower()))"
   ]
  },
  {
   "cell_type": "code",
   "execution_count": null,
   "metadata": {},
   "outputs": [],
   "source": []
  }
 ],
 "metadata": {
  "kernelspec": {
   "display_name": "Python 3",
   "language": "python",
   "name": "python3"
  },
  "language_info": {
   "codemirror_mode": {
    "name": "ipython",
    "version": 3
   },
   "file_extension": ".py",
   "mimetype": "text/x-python",
   "name": "python",
   "nbconvert_exporter": "python",
   "pygments_lexer": "ipython3",
   "version": "3.7.6"
  }
 },
 "nbformat": 4,
 "nbformat_minor": 4
}
